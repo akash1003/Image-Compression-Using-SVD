{
  "nbformat": 4,
  "nbformat_minor": 0,
  "metadata": {
    "colab": {
      "provenance": [],
      "include_colab_link": true
    },
    "kernelspec": {
      "name": "python3",
      "display_name": "Python 3"
    },
    "language_info": {
      "name": "python"
    }
  },
  "cells": [
    {
      "cell_type": "markdown",
      "metadata": {
        "id": "view-in-github",
        "colab_type": "text"
      },
      "source": [
        "<a href=\"https://colab.research.google.com/github/akash1003/Image-Compression-Using-SVD/blob/main/RANSAC_for_Robust_2D_Homography.ipynb\" target=\"_parent\"><img src=\"https://colab.research.google.com/assets/colab-badge.svg\" alt=\"Open In Colab\"/></a>"
      ]
    },
    {
      "cell_type": "markdown",
      "source": [
        "RANSAC Implementation\n",
        "\n",
        "Implementing the RANSAC algorithm to reject outliers and build a more robust 2D homography. It will be build around the basic 4-point homography based on the Direct Linear Transform (pg 91, Algorithm 4.1, Hartley-Zisserman Text on Multi-view Geometry).\n",
        "\n",
        "The task is to obtain the homography of a 2D polygonal plate with 12 sides and its image in a camera. The plate and camera are arbitrarily oriented in 3D space (but orientation is fixed).\n",
        "\n",
        "The vertices of the plate and its image form the point correspondences for the homograpy. However, we intentionally introduce large noise in a few of the correspondences, to test the efficacy of the RANSAC approach to overcome/reject these.\n",
        "\n",
        "Comparing homography with that provided by openCV across a range of outlier probabilities."
      ],
      "metadata": {
        "id": "MWfiNIOCI4Pc"
      }
    },
    {
      "cell_type": "code",
      "execution_count": null,
      "metadata": {
        "id": "JHKnwxch0K_F",
        "outputId": "38238841-91b0-4cc9-b5fb-c422474482cc",
        "colab": {
          "base_uri": "https://localhost:8080/"
        }
      },
      "outputs": [
        {
          "output_type": "stream",
          "name": "stdout",
          "text": [
            "Looking in indexes: https://pypi.org/simple, https://us-python.pkg.dev/colab-wheels/public/simple/\n",
            "Collecting geometer\n",
            "  Downloading geometer-0.3.4-py3-none-any.whl (46 kB)\n",
            "\u001b[K     |████████████████████████████████| 46 kB 2.2 MB/s \n",
            "\u001b[?25hRequirement already satisfied: numpy<1.23,>=1.15 in /usr/local/lib/python3.7/dist-packages (from geometer) (1.21.6)\n",
            "Installing collected packages: geometer\n",
            "Successfully installed geometer-0.3.4\n"
          ]
        }
      ],
      "source": [
        "# Package for numerical linear algebra computations\n",
        "import numpy as np\n",
        "\n",
        "#open CV library for image and video manipulation\n",
        "import cv2 as cv\n",
        "\n",
        "# package for plotting graphs\n",
        "import matplotlib.pyplot as plt\n",
        "\n",
        "# This library has a useful set of fuctions to implement rotations\n",
        "# via matrices, quaternions, euler angles etc and enables conversion across\n",
        "# these formats.\n",
        "from scipy.spatial.transform import Rotation as R \n",
        "\n",
        "# This package provides all the necessary functions to manipular and \n",
        "# work on points, lines, planes and conics, in both 2D and 3D projective\n",
        "# geometry framework\n",
        "!pip install geometer\n",
        "import geometer as pg"
      ]
    },
    {
      "cell_type": "code",
      "source": [
        "# test out the rotation  function of scipy.spatial.transform package\n",
        "\n",
        "# implement a rotator which provides rotation of 90deg\n",
        "# counter clock wise (CCW) about an axis [0,0,1]\n",
        "# orientation of rotation is when looking down into the axis\n",
        "# direction\n",
        "r = R.from_rotvec(np.pi/4 *np.array([0,0,1])) ## CCW looking down from the arrow tip\n",
        "v = np.array([1,1,1])\n",
        "print(r.as_matrix(), \"vector \", v, \"is rotated to:\", r.apply(v))"
      ],
      "metadata": {
        "colab": {
          "base_uri": "https://localhost:8080/"
        },
        "id": "PKz3gk4LqnCz",
        "outputId": "95edc8ea-58d5-4043-b3c5-d89df024d10b"
      },
      "execution_count": null,
      "outputs": [
        {
          "output_type": "stream",
          "name": "stdout",
          "text": [
            "[[ 0.70710678 -0.70710678  0.        ]\n",
            " [ 0.70710678  0.70710678  0.        ]\n",
            " [ 0.          0.          1.        ]] vector  [1 1 1] is rotated to: [-1.11022302e-16  1.41421356e+00  1.00000000e+00]\n"
          ]
        }
      ]
    },
    {
      "cell_type": "code",
      "source": [
        "# test out the rotation function of geometer packacge\n",
        "# a 3D direction vector is represented as a ideal point\n",
        "# or a point at infinity in homogenous\n",
        "axis = pg.Point([0,0,1,0])\n",
        "\n",
        "#note that orientation of rotation for same angle, axis based\n",
        "# representation is opposite to that by scipy above.\n",
        "\n",
        "geometer_rt = pg.rotation(np.pi/4,axis=axis) #CW looking down from the arrow tip\n",
        "p = pg.Point([1,0,1,1])\n",
        "print(\"rotating point \",p, \" CW by 90 clockwise using geometer:\", geometer_rt.apply(p))\n",
        "scipy_rt = pg.affine_transform(r.as_matrix(),[0,0,0])\n",
        "print(\"rotating piont \",p, \" CCW by 90 clockwise using scipy:\",scipy_rt.apply(p))\n"
      ],
      "metadata": {
        "colab": {
          "base_uri": "https://localhost:8080/"
        },
        "id": "TbAB3GqjrafD",
        "outputId": "3ed0c7fc-d443-48da-c14b-71aab71d2ad4"
      },
      "execution_count": null,
      "outputs": [
        {
          "output_type": "stream",
          "name": "stdout",
          "text": [
            "rotating point  Point(1, 0, 1)  CW by 90 clockwise using geometer: Point(0.7071067811865476, -0.7071067811865475, 1.0)\n",
            "rotating piont  Point(1, 0, 1)  CCW by 90 clockwise using scipy: Point(0.7071067811865475, 0.7071067811865476, 1.0)\n"
          ]
        }
      ]
    },
    {
      "cell_type": "code",
      "source": [
        "#utility function to get the in-homogenous cordinates \n",
        "#by dividing by the last coordinate value of the homogenous representation\n",
        "def InHomogenize (v,tol=1e-3):\n",
        "  '''Convert to inhomogenous coordinates.\n",
        "     input: v, nxm array, with last column used for homogenization\n",
        "            m is 3 or 4 for 2D or 3D\n",
        "  '''\n",
        "  if len(v.shape) > 2 :\n",
        "    raise Exception(\"Sorry - only upto 2-D arrays allowed\")\n",
        "  z = v[...,-1] #last coordinate\n",
        "  return np.divide(v.T, np.where(np.abs(z)> tol,z,1)).T"
      ],
      "metadata": {
        "id": "q00JfxSX0r2j"
      },
      "execution_count": null,
      "outputs": []
    },
    {
      "cell_type": "code",
      "source": [
        "InHomogenize(np.array([[2,3,2.],[4,5,8.],[6,6,6.],[8,9,10.]]))"
      ],
      "metadata": {
        "colab": {
          "base_uri": "https://localhost:8080/"
        },
        "id": "wTHZAF-kk-eG",
        "outputId": "bbd319cc-81a9-461a-a43f-61286a733216"
      },
      "execution_count": null,
      "outputs": [
        {
          "output_type": "execute_result",
          "data": {
            "text/plain": [
              "array([[1.   , 1.5  , 1.   ],\n",
              "       [0.5  , 0.625, 1.   ],\n",
              "       [1.   , 1.   , 1.   ],\n",
              "       [0.8  , 0.9  , 1.   ]])"
            ]
          },
          "metadata": {},
          "execution_count": 5
        }
      ]
    },
    {
      "cell_type": "code",
      "source": [
        "#camera parameters for the camera used in imaging the plate\n",
        "# same camera as in the last lab\n",
        "#(from: https://github.com/opencv/opencv/blob/3.4/samples/data/left_intrinsics.yml)\n",
        "#intrinsic parameters \n",
        "cameraMatrix = np.array(\n",
        "    [\n",
        "      [5.3591573396163199e+02, 0., 3.4228315473308373e+02,],\n",
        "      [0.,5.3591573396163199e+02, 2.3557082909788173e+02],\n",
        "      [0.,0.,1.]\n",
        "    ]\n",
        ")\n",
        "#distortion coefficients\n",
        "distCoeffs=np.array(\n",
        "    [-2.6637260909660682e-01, -3.8588898922304653e-02,\n",
        "       1.7831947042852964e-03, -2.8122100441115472e-04,\n",
        "       2.3839153080878486e-01]\n",
        ")"
      ],
      "metadata": {
        "id": "dOJZguhLy96n"
      },
      "execution_count": null,
      "outputs": []
    },
    {
      "cell_type": "code",
      "source": [
        "class Plate:\n",
        "  '''\n",
        "  2 Dimensional polygonal plate with nSides and radius\n",
        "  represented in 3D homogenous coordinates\n",
        "  '''\n",
        "  def __init__(self, nSides=6, radius=5.0, location=[0,0,0], angle=0, axis=[0,0,1]):\n",
        "    '''\n",
        "    nSides : number of sides of plate\n",
        "    radius: distance of each vertex form centroid\n",
        "    location: 3D location of centroid (inhomogenous coordinates)\n",
        "    angle: in radians of CCW rotation about axis\n",
        "    axis: 3D axis of rotation\n",
        "    '''\n",
        "    self.nSides = nSides\n",
        "    self.radius = radius\n",
        "    self.pts = np.ones((nSides,4), dtype=np.float32)\n",
        "    idx = np.arange(0,nSides)\n",
        "    self.pts[:,0] = radius*np.cos(idx*np.pi*2/nSides)\n",
        "    self.pts[:,1] = radius*np.sin(idx*np.pi*2/nSides)\n",
        "    self.pts[:,2] = 0\n",
        "    self.pts_coll = pg.PointCollection(self.pts)\n",
        "    self.pose = pg.affine_transform(R.from_rotvec(angle*np.array(axis)/np.linalg.norm(axis)).as_matrix(),location)\n",
        "    \n",
        "  def setPose(self,location=[0,0,0], angle=0, axis=[0,0,1]):\n",
        "    self.pose = pg.affine_transform(R.from_rotvec(angle*np.array(axis)/np.linalg.norm(axis)).as_matrix(),location)\n",
        "\n",
        "  def vertices_3D(self):\n",
        "    '''\n",
        "    vertex points in 3D as per the plate's pose\n",
        "    '''\n",
        "    dis_pts = self.pose.apply(self.pts_coll)\n",
        "    return(dis_pts.normalized_array[:,:-1])\n",
        "\n",
        "  def image_the_points(self, camera_pose, camera_matrix):\n",
        "    '''\n",
        "    camera_pose: 3D pose as geometer.affine_transform\n",
        "    camera_matrix: 3x3 matrix\n",
        "    returns the plates points projected onto camera's image plane\n",
        "    '''\n",
        "    plate_pts = self.pose.apply(self.pts_coll)\n",
        "    #print(\"plate_pts=\",plate_pts)\n",
        "    plate_in_camera_pose_pts = camera_pose.inverse().apply(plate_pts)\n",
        "    #print(\"plate_in_camera_pose_pts=\",plate_in_camera_pose_pts)\n",
        "    plate_norm_pts = plate_in_camera_pose_pts.normalized_array[:,:-1] #in 3D inhomogenous\n",
        "    #print(\"plate_norm_pts=\",plate_norm_pts, plate_norm_pts @ camera_matrix.T)\n",
        "    img_coord = InHomogenize(plate_norm_pts @ camera_matrix.T)\n",
        "    return(img_coord[:,:2])"
      ],
      "metadata": {
        "id": "ZT-pAmKGSg_l"
      },
      "execution_count": null,
      "outputs": []
    },
    {
      "cell_type": "code",
      "source": [
        "def givePoseTransform(location=[0,0,0], angle=0, axis=[0,0,1]):\n",
        "  '''Given the angle, axis of rotation and location (translation)\n",
        "      construct the affine transform matrix\n",
        "  '''\n",
        "  return(pg.affine_transform(R.from_rotvec(angle*np.array(axis)/np.linalg.norm(axis)).as_matrix(),location))\n"
      ],
      "metadata": {
        "id": "9w89ep2xnu8b"
      },
      "execution_count": null,
      "outputs": []
    },
    {
      "cell_type": "code",
      "source": [
        "#create and image the plate\n",
        "plate = Plate(nSides=12, radius=5)\n",
        "#print(plate.pts)\n",
        "plate.setPose(location=[0,0,28],angle=np.pi/4, axis=[0,1,1])\n",
        "#print(plate.vertices_3D())\n",
        "camera_pose = givePoseTransform(location=[0,0,0],angle=0,axis=[0.0,0,1])\n",
        "img_pts=plate.image_the_points(camera_pose,cameraMatrix)\n",
        "#print(\"img_pts=\",img_pts)\n",
        "dis_pts = img_pts.astype(int)\n"
      ],
      "metadata": {
        "id": "AHYe8QylNCL1"
      },
      "execution_count": null,
      "outputs": []
    },
    {
      "cell_type": "code",
      "source": [
        "dimg = np.zeros((480,640,3),np.uint8)\n",
        "cv.fillPoly(dimg,pts=[dis_pts],color=(0,255,255))\n",
        "plt.imshow(dimg)"
      ],
      "metadata": {
        "colab": {
          "base_uri": "https://localhost:8080/",
          "height": 286
        },
        "id": "NzZqEOotEwch",
        "outputId": "91db97ea-70c8-4318-a714-8b8fa2f38e59"
      },
      "execution_count": null,
      "outputs": [
        {
          "output_type": "execute_result",
          "data": {
            "text/plain": [
              "<matplotlib.image.AxesImage at 0x7f387bea7e90>"
            ]
          },
          "metadata": {},
          "execution_count": 10
        },
        {
          "output_type": "display_data",
          "data": {
            "text/plain": [
              "<Figure size 432x288 with 1 Axes>"
            ],
            "image/png": "[encoded data removed]"
          },
          "metadata": {
            "needs_background": "light"
          }
        }
      ]
    },
    {
      "cell_type": "code",
      "source": [
        "def CalcHomographyErr (\n",
        "    H, #homography matrix\n",
        "    src_pts, #src points\n",
        "    dst_pts, #dst points for calculating error\n",
        "  ):\n",
        "  ''' Calculate the homography error via the euclidean distance between \n",
        "  homographed points and their corresponding companion point \n",
        "  '''\n",
        "  img_fromhom_pts = InHomogenize((H @ src_pts.T).T)[:,:2].astype(int)\n",
        "  return(np.linalg.norm(img_fromhom_pts-dst_pts))"
      ],
      "metadata": {
        "id": "FST0SDe40VFR"
      },
      "execution_count": null,
      "outputs": []
    },
    {
      "cell_type": "code",
      "source": [
        "def ImageHomographyPlate (\n",
        "    H,  #homography matrix\n",
        "    src_pts,   #vertices of source plate\n",
        "  ):\n",
        "  '''Image the homographed plate\n",
        "  '''\n",
        "  img_fromhom_pts = InHomogenize((H @ src_pts.T).T)[:,:2].astype(int)\n",
        "  dimg = np.zeros((480,640,3),np.uint8)\n",
        "  cv.fillPoly(dimg,pts=[img_fromhom_pts],color=(0,255,255))\n",
        "  plt.imshow(dimg)"
      ],
      "metadata": {
        "id": "nZKXMyjL1Z65"
      },
      "execution_count": null,
      "outputs": []
    },
    {
      "cell_type": "code",
      "source": [
        "#Compute ideal homography between noiseless correspondence pairs of the plate\n",
        "srcPts = np.ones((plate.pts.shape[0],3))\n",
        "srcPts[:,:2] = plate.pts[:,:2]\n",
        "Hideal,mask = cv.findHomography(srcPts[:,:2],img_pts)\n",
        "print(\"mean RMS error with no noise is =\", CalcHomographyErr(Hideal,srcPts, img_pts))"
      ],
      "metadata": {
        "colab": {
          "base_uri": "https://localhost:8080/"
        },
        "id": "EfzB5DniTAjh",
        "outputId": "3e20088f-35ab-4edf-efce-d960cb85f4f9"
      },
      "execution_count": null,
      "outputs": [
        {
          "output_type": "stream",
          "name": "stdout",
          "text": [
            "mean RMS error with no noise is = 2.6304612068776714\n"
          ]
        }
      ]
    },
    {
      "cell_type": "code",
      "source": [
        "def GenNoisySourcePts (\n",
        "    p, #outlier probability\n",
        "    inlier_std, #standard deviation for inliers\n",
        "    outlier_std, #standard deviation for outlier\n",
        "    srcPts,  #source pts to which bi-modal noise is added\n",
        "    seed=345, #seed for random generatr\n",
        "  ):\n",
        "  '''\n",
        "  Generate source points with some outliers - via bi-modal gaussian distribution\n",
        "  '''\n",
        "  rng = np.random.default_rng(seed)\n",
        "  #create an array of std deviations of the size of the src pts\n",
        "  #with either inlier or outlier std deviation. \n",
        "  #use same std deviation for both coordinates\n",
        "  v = srcPts[:,:2]\n",
        "  y=np.zeros(v.shape)\n",
        "  y[:,0]=rng.choice([inlier_std,outlier_std],size=srcPts.shape[0],p=[1-p,p])\n",
        "  y[:,1] = y[:,0] #copy the same std for the other coordinate\n",
        "  #print(y)\n",
        "  #generate this bi-modal normal noise vector to add to the coordinates\n",
        "  z = rng.normal(0,y,v.shape)\n",
        "  #now generate noisy source points with some outliers\n",
        "  noisy_src_pts = np.ones((srcPts.shape[0],3))\n",
        "  noisy_src_pts[:,:2] = v + z\n",
        "  return (noisy_src_pts)"
      ],
      "metadata": {
        "id": "vybgbIWoDA6v"
      },
      "execution_count": null,
      "outputs": []
    },
    {
      "cell_type": "code",
      "source": [
        "#generate noisy source and image points by adding zero-mean gaussian noise to each\n",
        "rng1 = np.random.default_rng(123)\n",
        "img_noise_std = 1 #in pixels std deviation of noise in image\n",
        "#now generate noisy image points (unimodal gaussian noise)\n",
        "noisy_img_pts = img_pts+rng1.normal(0,img_noise_std,img_pts.shape)\n"
      ],
      "metadata": {
        "id": "zQ8LKvwshiUl"
      },
      "execution_count": null,
      "outputs": []
    },
    {
      "cell_type": "code",
      "source": [
        "outlier_prob = 0.5 #probability of an outlier point for the noisy src\n",
        "inlier_std = 0.1  #std deviation of inlier point for noisy src\n",
        "outlier_std = 5  #std deviation of outlier point for noisy src\n",
        "seed = rng1.integers(25) \n",
        "noisy_src_pts = GenNoisySourcePts(outlier_prob, inlier_std, outlier_std, srcPts,seed=seed)"
      ],
      "metadata": {
        "id": "8ywRm9MyNmo2"
      },
      "execution_count": null,
      "outputs": []
    },
    {
      "cell_type": "code",
      "source": [
        "#without RANSAC\n",
        "Hnoransac,mask = cv.findHomography(noisy_src_pts,\n",
        "                            noisy_img_pts, \n",
        "                            method=0,\n",
        "                            )\n",
        "print(\"Without RANSAC: RMS error (in pixels) = \",\n",
        "      CalcHomographyErr(Hnoransac, srcPts, img_pts))\n",
        "ImageHomographyPlate(Hnoransac, srcPts)\n"
      ],
      "metadata": {
        "colab": {
          "base_uri": "https://localhost:8080/",
          "height": 286
        },
        "id": "4gy52rUHXdb1",
        "outputId": "2952072c-3096-404d-f7cb-4cdb0204a683"
      },
      "execution_count": null,
      "outputs": [
        {
          "output_type": "stream",
          "name": "stdout",
          "text": [
            "Without RANSAC: RMS error (in pixels) =  141.79042857232022\n"
          ]
        },
        {
          "output_type": "display_data",
          "data": {
            "text/plain": [
              "<Figure size 432x288 with 1 Axes>"
            ],
            "image/png": "[encoded data removed]"
          },
          "metadata": {
            "needs_background": "light"
          }
        }
      ]
    },
    {
      "cell_type": "markdown",
      "source": [
        "Let $(x_{i1},x_{i2},1), (y_{i1},y_{i2},1)$ be the corresponding point pairs linked by homography H:\n",
        "\n",
        "$\n",
        "H = \\begin{bmatrix}\n",
        "h_{11} & h_{12} & h_{13} \\\\\n",
        "h_{21} & h_{22} & h_{23} \\\\\n",
        "h_{31} & h_{32} & h_{33} \\\\\n",
        "\\end{bmatrix} = \n",
        "\\begin{bmatrix}\n",
        "h_1^T\\\\\n",
        "h_2^T\\\\\n",
        "h_2^T\\\\\n",
        "\\end{bmatrix}\n",
        "$\n",
        "\n",
        "and, \n",
        "$\n",
        "\\begin{bmatrix}\n",
        "k*y_{i1} \\\\\n",
        "k*y_{i2} \\\\\n",
        "k \\\\\n",
        "\\end{bmatrix} = H \\begin{bmatrix}\n",
        "x_{i1} \\\\\n",
        "x_{i2} \\\\\n",
        "1 \\\\\n",
        "\\end{bmatrix}\n",
        "$\n",
        "for arbitrary scalar k\n",
        "\n",
        "This gives two equations per point (eliminating k ):\n",
        "\n",
        "$\n",
        "y_{i1} = \\frac{h_{11} x_{i1}+h_{12} x_{i2}+h_{13}}{h_{31}x_{i1}+h_{32}x_{i2}+h_{33}}\n",
        "$\n",
        "\n",
        "$\n",
        "y_{i2} = \\frac{h_{21} x_{i1}+h_{22} x_{i2}+h_{23}}{h_{31}x_{i1}+h_{32}x_{i2}+h_{33}}\n",
        "$\n",
        "\n",
        "\n",
        "The above contributes two rows to the matrix 2n x 9 sized matrix $A$\n",
        "where n is the number of point pairs and :\n",
        "\n",
        "$\n",
        "A * \\begin{bmatrix} \n",
        "h_1 \\\\ \n",
        "h_2 \\\\ \n",
        "h_3 \\\\ \\end{bmatrix} = 0\n",
        "$ \n",
        "\n",
        "Thus the homography H's columns, when stacked up as a single 9x1 column vector, is the null space of A\n",
        "\n",
        "The null space of A can be obtained via SVD decomposition of A and the right sigular vectors corresponding to the '0' singular value form the basis of the null space.\n",
        "\n",
        "$ svd(A) = U \\Sigma V^T$\n",
        "\n",
        "In this case, for a four point homography (n=4), rank(A)=8 and V is 9x9 orthogonnal matrix and the last singular vector V[9] is the homography matrix. \n"
      ],
      "metadata": {
        "id": "Zxbthq1WX9eu"
      }
    },
    {
      "cell_type": "code",
      "source": [
        "def OurHomography(\n",
        "    s, #array of four homogenous 2D points\n",
        "    d, #array of four corresponding destination 2D points\n",
        "  ):\n",
        "  '''\n",
        "  Four point homography using direct linear transform\n",
        "  '''\n",
        "  A = np.zeros((2*s.shape[0],9))\n",
        "  for i in range(s.shape[0]):\n",
        "    A[2*i,0:3] = s[i,:]\n",
        "    A[2*i,6:9] = -d[i,0]*s[i,:] \n",
        "    A[2*i+1,3:6] = s[i,:]\n",
        "    A[2*i+1,6:9] = -d[i,1]*s[i,:]    \n",
        "\n",
        "  #now need to find the null space of this matrix\n",
        "  U, s, VT = np.linalg.svd(A)\n",
        "  H = VT[-1,:].reshape(3,3)\n",
        "  return(H)"
      ],
      "metadata": {
        "id": "PBKDU_uZWXuT"
      },
      "execution_count": null,
      "outputs": []
    },
    {
      "cell_type": "code",
      "source": [
        "# test out four point homography from above by applying on\n",
        "# first four pairs of points from noiseless source and image points\n",
        "Hfour = OurHomography(srcPts[0:4],img_pts[0:4])\n",
        "print(\"With four point, RMS Error=\", CalcHomographyErr(Hfour, srcPts, img_pts))\n",
        "ImageHomographyPlate(Hfour, srcPts)"
      ],
      "metadata": {
        "colab": {
          "base_uri": "https://localhost:8080/",
          "height": 286
        },
        "id": "oCtd2PTVpacx",
        "outputId": "b536bfb7-8a39-4115-d0f6-18f2c2310348"
      },
      "execution_count": null,
      "outputs": [
        {
          "output_type": "stream",
          "name": "stdout",
          "text": [
            "With four point, RMS Error= 2.6304612068776714\n"
          ]
        },
        {
          "output_type": "display_data",
          "data": {
            "text/plain": [
              "<Figure size 432x288 with 1 Axes>"
            ],
            "image/png": "[encoded data removed]"
          },
          "metadata": {
            "needs_background": "light"
          }
        }
      ]
    },
    {
      "cell_type": "code",
      "source": [
        "#Your RANSAC algorithm\n",
        "#<MODIFY THIS CELL>\n",
        "def RansacHomography (\n",
        "      noisy_src_pts,               #source points\n",
        "      noisy_img_pts,               #image points\n",
        "      ransac_threshold,            #Error threshold to check for inliers to a model\n",
        "      nSamples = 40,               #number of random sample sets to try\n",
        "      minNumInliersThreshold=0.8,  #percentage of points needed to support so that we can stop the search\n",
        "    ):\n",
        "  nPts = 4 #number of points needed for a 2D homography computation\n",
        "  bestInlierNum = 0\n",
        "  bestInlierIdxSet = []\n",
        "  rng1 = np.random.default_rng(345)\n",
        "  #print(noisy_src_pts)\n",
        "  for i in range(nSamples):  #do this upto nSamples times \n",
        "\n",
        "    #get a random subset of four points from the list of point pairs\n",
        "    #by picking the four indices of these point pairs\n",
        "    idx = rng1.choice(np.arange(noisy_img_pts.shape[0]),size=nPts,replace=False)\n",
        "\n",
        "    #find the homography using these four points\n",
        "    Hn = OurHomography(noisy_src_pts[idx],noisy_img_pts[idx])\n",
        "    #find the number of inliers\n",
        " \n",
        "    #now find the inlier points which match this model and keep\n",
        "    #track of the best model so far\n",
        "    nInliers = 0\n",
        "    inlierIdxSet = []\n",
        "\n",
        "    #iterate through all the point pairs to check if they are an inlier to this model\n",
        "    for i in range(noisy_src_pts.shape[0]):\n",
        "      #use the homography to compute the image point from the source point\n",
        "      img_fromhom_pt = InHomogenize((Hn @ noisy_src_pts[i,:].T))[:2]\n",
        "      #check if the distance of the homographed point is within threshold of image point\n",
        "      #<YOUR CODE HERE>\n",
        "      ####################3print(\"i am here\",noisy_img_pts[i].shape)\n",
        "      err=CalcHomographyErr(Hn, noisy_src_pts[i].reshape(1,3), noisy_img_pts[i])\n",
        "      if err < ransac_threshold:\n",
        "        nInliers=nInliers+1\n",
        "        inlierIdxSet.append(i)\n",
        "    #end for i\n",
        "\n",
        "    if (nInliers > bestInlierNum) :\n",
        "      #<YOUR CODE HERE>\n",
        "      # this is a better model than what we had so far - \n",
        "      # keep track of the inlier indices\n",
        "      bestInlierNum=nInliers\n",
        "      bestInlierIdxSet=inlierIdxSet\n",
        "      if nInliers > minNumInliersThreshold * noisy_src_pts.shape[0] :\n",
        "        #got enough inliers - stop the search for any additional models\n",
        "        break\n",
        "\n",
        "  #recalculate the homography using all the inlier point pairs\n",
        "  Hbest = OurHomography(noisy_src_pts[bestInlierIdxSet,:], \n",
        "                                noisy_img_pts[bestInlierIdxSet,:]\n",
        "                                )\n",
        "  img_fromhom_pts = InHomogenize((Hbest @ noisy_src_pts[bestInlierIdxSet].T).T)[:,:2]\n",
        "  return (Hbest)"
      ],
      "metadata": {
        "id": "JtV1qTt0yvfs"
      },
      "execution_count": null,
      "outputs": []
    },
    {
      "cell_type": "code",
      "source": [
        "print(bestInlierNum)"
      ],
      "metadata": {
        "id": "8oi23c49nxWQ"
      },
      "execution_count": null,
      "outputs": []
    },
    {
      "cell_type": "code",
      "source": [
        "Hransac = RansacHomography(noisy_src_pts, noisy_img_pts, ransac_threshold=10,nSamples=200)\n",
        "print(\"With our RANSAC, RMS Error=\", CalcHomographyErr(Hransac, srcPts, img_pts))\n",
        "ImageHomographyPlate(Hransac, srcPts)"
      ],
      "metadata": {
        "colab": {
          "base_uri": "https://localhost:8080/",
          "height": 286
        },
        "id": "uMsDRK6GaZKn",
        "outputId": "33869e8b-049c-4f88-db51-ae7f8e05531c"
      },
      "execution_count": null,
      "outputs": [
        {
          "output_type": "stream",
          "name": "stdout",
          "text": [
            "With our RANSAC, RMS Error= 190.5887725268026\n"
          ]
        },
        {
          "output_type": "display_data",
          "data": {
            "text/plain": [
              "<Figure size 432x288 with 1 Axes>"
            ],
            "image/png": "[encoded data removed]"
          },
          "metadata": {
            "needs_background": "light"
          }
        }
      ]
    },
    {
      "cell_type": "code",
      "source": [
        "#Use OpenCV's RANSAC\n",
        "Hopencv, mask = cv.findHomography(noisy_src_pts,\n",
        "                                  noisy_img_pts,\n",
        "                                  method=cv.RANSAC,\n",
        "                                  ransacReprojThreshold=20,\n",
        "                                  )\n",
        "\n",
        "print(\"With openCV RANSAC: RMS Error = \", CalcHomographyErr(Hopencv,srcPts,img_pts))\n",
        "ImageHomographyPlate(Hopencv,srcPts)"
      ],
      "metadata": {
        "colab": {
          "base_uri": "https://localhost:8080/",
          "height": 286
        },
        "id": "s6WnCQp3lOa6",
        "outputId": "130633cb-cc45-45b7-f368-4916feca89f4"
      },
      "execution_count": null,
      "outputs": [
        {
          "output_type": "stream",
          "name": "stdout",
          "text": [
            "With openCV RANSAC: RMS Error =  235.40961684119108\n"
          ]
        },
        {
          "output_type": "display_data",
          "data": {
            "text/plain": [
              "<Figure size 432x288 with 1 Axes>"
            ],
            "image/png": "[encoded data removed]"
          },
          "metadata": {
            "needs_background": "light"
          }
        }
      ]
    },
    {
      "cell_type": "code",
      "source": [
        "#<MODIFY THIS CELL>\n",
        "#COMPARISON\n",
        "#Plot the average error versus outlier probability for non-ransac, yours and opencv's ransac\n",
        "inlier_std = 0.1  #std deviation of inlier point for noisy src\n",
        "outlier_std = 5  #std deviation of outlier point for noisy src\n",
        "nTimes = 20     # number of times to run this\n",
        "ransac_threshold = 40 #ransac threshold for ours and opencv\n",
        "nSamples = 300 #number of samples for ours\n",
        "print(\"p   cv_noransac_err.   our_err.   cv_ransac_err\")\n",
        "nonransac_err_list=[]\n",
        "our_err_list=[]\n",
        "cv_ransac_err_list=[]\n",
        "for p in np.arange(0.1,0.7,0.1):\n",
        "  #for each outlier probability, run this for 20 times to get the average errors\n",
        "  outlier_prob = p #probability of an outlier point for the noisy src\n",
        "  cv_noransac_err = 0\n",
        "  our_err= 0\n",
        "  cv_ransac_err = 0\n",
        "  for i in range(nTimes):\n",
        "    #generate noisy src data\n",
        "    seed = rng1.integers(25)\n",
        "    noisy_src_pts = GenNoisySourcePts(outlier_prob, inlier_std, outlier_std, srcPts,seed=seed)\n",
        "\n",
        "    #CV's homography calculation without RANSAC\n",
        "    Hnoransac,mask = cv.findHomography(noisy_src_pts,\n",
        "                            noisy_img_pts, \n",
        "                            method=0,\n",
        "                            )\n",
        "    cv_noransac_err +=   CalcHomographyErr(Hnoransac, srcPts, img_pts)\n",
        "\n",
        "\n",
        "    #Use your homography and calculate error\n",
        "    #<YOUR CODE HERE>\n",
        "    Hransac = RansacHomography(noisy_src_pts, noisy_img_pts, ransac_threshold=10,nSamples=200)\n",
        "    our_err += CalcHomographyErr(Hransac, srcPts, img_pts)\n",
        "\n",
        "\n",
        "    Hopencv, mask = cv.findHomography(noisy_src_pts,\n",
        "                                  noisy_img_pts,\n",
        "                                  method=cv.RANSAC,\n",
        "                                  ransacReprojThreshold=ransac_threshold,\n",
        "                                  )\n",
        "    cv_ransac_err += CalcHomographyErr(Hopencv, srcPts, img_pts)\n",
        "  #end for i\n",
        "  print (p, cv_noransac_err/nTimes, our_err/nTimes, cv_ransac_err/nTimes)\n",
        "  nonransac_err_list.append(cv_noransac_err/nTimes)\n",
        "  our_err_list.append(our_err/nTimes)\n",
        "  cv_ransac_err_list.append(cv_ransac_err/nTimes)\n",
        "#end for p\n"
      ],
      "metadata": {
        "colab": {
          "base_uri": "https://localhost:8080/"
        },
        "id": "Tc2YU-d1O1kv",
        "outputId": "1f696ae0-8666-4d68-f170-54e665d9c756"
      },
      "execution_count": null,
      "outputs": [
        {
          "output_type": "stream",
          "name": "stdout",
          "text": [
            "p   cv_noransac_err.   our_err.   cv_ransac_err\n",
            "0.1 54.511483333999976 6.667524343867892 6.261187660801122\n",
            "0.2 125.78658863732078 29.854529971556964 42.53284173724494\n",
            "0.30000000000000004 111.56840600603104 12.740902954149139 101.11813616373858\n",
            "0.4 157.48581950218443 28.172059617894785 66.87489096322425\n",
            "0.5 224.998812173835 286.0225038988791 566.770113594796\n",
            "0.6 260.9167861133711 303.24415556102326 220.09155951569966\n"
          ]
        }
      ]
    },
    {
      "cell_type": "code",
      "source": [
        "plt.plot(np.arange(0.1,0.7,0.1),nonransac_err_list,label=\"Non ransac\",color=\"red\")\n",
        "plt.plot(np.arange(0.1,0.7,0.1),our_err_list,label=\"Our Error\",color=\"green\")\n",
        "plt.plot(np.arange(0.1,0.7,0.1),cv_ransac_err_list,label=\"open CV's Ransac\",color=\"blue\")\n",
        "plt.legend()\n",
        "plt.xlabel(\"OUTLIER PROBABILITIES\")\n",
        "plt.ylabel(\"Average Error\")\n",
        "plt.show()"
      ],
      "metadata": {
        "colab": {
          "base_uri": "https://localhost:8080/",
          "height": 279
        },
        "id": "7aVyI-_PxwfW",
        "outputId": "1d0a1e25-fc59-4ba6-bab5-c4c7e1c0f86f"
      },
      "execution_count": null,
      "outputs": [
        {
          "output_type": "display_data",
          "data": {
            "text/plain": [
              "<Figure size 432x288 with 1 Axes>"
            ],
            "image/png": "[encoded data removed]"
          },
          "metadata": {
            "needs_background": "light"
          }
        }
      ]
    },
    {
      "cell_type": "markdown",
      "source": [
        "Observations: In the graph, Our algorithm has lower error for lower value of Outlier Probability, after 0.5 Open CVs Ransac has lower error.\n",
        "\n"
      ],
      "metadata": {
        "id": "zjK06Gckf09v"
      }
    }
  ]
}